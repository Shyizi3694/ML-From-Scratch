{
 "cells": [
  {
   "metadata": {
    "collapsed": true
   },
   "cell_type": "markdown",
   "source": "# Chapter 2: 感知机",
   "id": "e74f6041a99bcf66"
  },
  {
   "metadata": {},
   "cell_type": "markdown",
   "source": [
    "感知机是一个非常经典的分类模型，最早由 Frank Rosenblatt 在1958年提出，也是神经网络的雏形。感知机的核心思想是通过线性组合输入特征和权重，然后通过激活函数进行非线性变换，最终输出分类结果。\n",
    "\n",
    "----"
   ],
   "id": "122bc4e069bd2a80"
  },
  {
   "metadata": {},
   "cell_type": "markdown",
   "source": "## Section 2.1: 数学原理",
   "id": "d94c658aa0423044"
  },
  {
   "metadata": {},
   "cell_type": "markdown",
   "source": "如前述，感知机模型用于处理二分类问题。不妨将待分类数据抽象成二维平面上的一个点，那么分类的目标就可以表示为，寻找一个最好的超平面，将数据点分开至平面的两侧，并尽可能让同侧的数据点的类别相同。",
   "id": "536b89eb79830b43"
  },
  {
   "metadata": {},
   "cell_type": "markdown",
   "source": "（此处为一图）",
   "id": "6a68b849915694b0"
  },
  {
   "metadata": {},
   "cell_type": "markdown",
   "source": "如上图所示，数据集中两类点能够被完全正确地划分到超平面两侧，则称为线性可分数据集；反之，则数据集线性不可分。",
   "id": "68fe03fbc01192f3"
  },
  {
   "metadata": {},
   "cell_type": "markdown",
   "source": "### 超平面与决策函数",
   "id": "10619fbf160a1b31"
  },
  {
   "metadata": {},
   "cell_type": "markdown",
   "source": [
    "最好的超平面的表达式是模型学习的目标。首先可以确定的是，作为一个平面，它必定具有线性的表达，即：\n",
    "\n",
    "$$\n",
    "\\pi: \\quad X W + b = 0\n",
    "$$\n",
    "\n",
    "其中 $\\pi$ 即该平面，X 为 m 个样本，每个样本 n 维特征组成的输入矩阵。对于二维特征的特例，划分平面为：\n",
    "\n",
    "$$\n",
    "ax_1 + bx_2 + c = 0\n",
    "$$\n",
    "\n",
    "即二维平面上直线。"
   ],
   "id": "1adb677851d7d992"
  },
  {
   "metadata": {},
   "cell_type": "markdown",
   "source": [
    "在这个超平面上的点都有 $X_iW + b = 0$，而在平面的两侧的点，分别有 $X_iW + b > 0$ 和 $X_iW+b <0$。这就天然地形成了两个类别，也是感知机适合处理分类问题的原因。\n",
    "\n",
    "这样我们可以轻松写出感知机模型的决策函数：\n",
    "\n",
    "$$\n",
    "f(X) = \\text{sign} (XW+b)\n",
    "$$\n",
    "\n",
    "其中 $\\text{sign}$ 是符号函数。决策函数通过计算待分类点位于超平面的哪一侧来判断其类别。"
   ],
   "id": "78421a397965bef7"
  },
  {
   "metadata": {},
   "cell_type": "markdown",
   "source": "### 误分类点的判别与损失函数",
   "id": "aa07805a32cfa725"
  },
  {
   "metadata": {},
   "cell_type": "markdown",
   "source": [
    "很自然地，我们将大于 0 侧的点的标签设为 +1，小于 0 侧的点的标签设为 -1，那么对于误分类的点就有：\n",
    "\n",
    "$$\n",
    "y_i(X_iW+b)<0\n",
    "$$"
   ],
   "id": "10f5b1d3141fe386"
  },
  {
   "metadata": {},
   "cell_type": "markdown",
   "source": [
    "> [!proof]\n",
    "> - 若真实标签为正例（$y_i = +1$），预测为反例（$X_iW+b<0$），两者乘积为负\n",
    "> - 真实标签为负且预测为正，乘积同样为负\n",
    "> - 其他预测正确的情况，乘积为正\n",
    ">\n",
    "> 这就说明这个对于误分类点的判别是合理的。"
   ],
   "id": "763acaa684981f03"
  },
  {
   "metadata": {},
   "cell_type": "markdown",
   "source": [
    "在 Chap.1 中提到，模型的训练问题同时也可以看作优化问题。因此，我们希望构建一个连续可微的损失函数，便于求取梯度等操作。同时，我们希望误分类点尽可能地少，或者更加精确地说，所有误分类点到超平面的距离之和最小。这样这样我们可以将损失函数定义成如下形式：\n",
    "\n",
    "$$\n",
    "L(W,b) = -\\sum_{i \\in M} \\text{dist}(X_i, \\pi)\n",
    "$$\n",
    "\n",
    "其中，$M$ 是误分类点的集合，$\\text{dist}(X_i, \\pi)$ 是点 $X_i$ 到超平面 $\\pi$ 的距离。"
   ],
   "id": "44ead5cb829d6bf7"
  },
  {
   "metadata": {},
   "cell_type": "markdown",
   "source": [
    "点到平面的距离可以通过点到平面法向量的投影来计算。对于超平面 $\\pi: XW + b = 0$，其法向量为 $W$。因此，点 $X_i$ 到平面的距离可以表示为：\n",
    "\n",
    "$$\n",
    "\\text{dist}(X_i, \\pi) = \\frac{|X_iW + b|}{\\|W\\|}\n",
    "$$"
   ],
   "id": "c434f637a1a27dd5"
  },
  {
   "metadata": {},
   "cell_type": "markdown",
   "source": [
    "这样，损失函数可以进一步表示为：\n",
    "\n",
    "$$\n",
    "L(W,b) = \\sum_{i \\in M} \\frac{|X_iW + b|}{\\|W\\|}\n",
    "$$"
   ],
   "id": "61d97174c24a99a2"
  },
  {
   "metadata": {},
   "cell_type": "markdown",
   "source": [
    "利用误分类的性质（$y_i(X_iW+b)<0$），可以巧妙地去掉绝对值符号，得到：\n",
    "\n",
    "$$\n",
    "L(W,b) = -\\sum_{i \\in M} \\frac{y_i(X_iW + b)}{\\|W\\|}\n",
    "$$"
   ],
   "id": "c51a929e9c55b496"
  },
  {
   "metadata": {},
   "cell_type": "markdown",
   "source": [
    "然而，这个损失函数的优化仍然是非常复杂的，考虑对这个表达进行简化。由于感知机模型的目标仅仅是将数据点正确分类（假设数据线性可分），而单纯对上述损失函数进行优化，不仅得到正确分类，还会尽可能地增大分类间隔。感知机算法是一个“错误驱动”的算法。它只关心“是否存在误分类点”，而不关心这些点离超平面的具体距离是多少。因此，最大化分类间隔是一个多余的工作。实际上，我们可以忽略分母 $\\|W\\|$，得到一个更简单的损失函数：\n",
    "\n",
    "$$\n",
    "L(W,b) = -\\sum_{i \\in M} y_i(X_iW + b)\n",
    "$$"
   ],
   "id": "f3d9438e8189fc3f"
  },
  {
   "metadata": {},
   "cell_type": "markdown",
   "source": "这个损失函数与简化前的并不等价，但是都能够正确地反映误分类点的情况，达到使误分类点集为空的目的。将这个更加简单的代理损失函数作为感知机模型的损失函数是更好的选择。",
   "id": "c9381766743e327d"
  },
  {
   "metadata": {},
   "cell_type": "markdown",
   "source": "### 感知机学习与随机梯度下降",
   "id": "d270c02f03e52f61"
  },
  {
   "metadata": {},
   "cell_type": "markdown",
   "source": [
    "同样地，我们对损失函数求取导数：\n",
    "\n",
    "$$\n",
    "\\begin{aligned}\n",
    "\\frac{\\partial L(W,b)}{\\partial W} &= -\\sum_{i \\in M} (y_i X_i)^T \\\\\n",
    "&= -\\sum_{i \\in M} y_i X_i^T\\quad \\text{（} y_i \\text{为标量）} \\\\\n",
    "\\end{aligned}\n",
    "$$\n",
    "\n",
    "$$\n",
    "\\begin{aligned}\n",
    "\\frac{\\partial L(W,b)}{\\partial b} &= -\\sum_{i \\in M} y_i^T \\\\\n",
    "&= -\\sum_{i \\in M} y_i \\text{（} y_i \\text{为标量）} \\\\\n",
    "\\end{aligned}\n",
    "$$"
   ],
   "id": "ce3ee41e7dff83e2"
  },
  {
   "metadata": {},
   "cell_type": "markdown",
   "source": "与线性回归类似，感知机模型的损失函数也是一个凸函数，因此可以使用梯度下降法进行优化。然而，感知机模型的损失函数与误分类点相关，因此是一个不够光滑的函数，使用之前实现的“批量”的梯度下降法并不合适；另外，“批量”梯度下降法需要遍历所有样本，而不对误分类点加以区分，这样计算得出的“平均梯度”没有意义且不稳定，因此我们需要使用随机梯度下降法（Stochastic Gradient Descent）来优化感知机模型。",
   "id": "c52df8b0a4284791"
  },
  {
   "metadata": {},
   "cell_type": "markdown",
   "source": [
    "随机梯度下降法的核心思想是每次只使用一个样本来计算梯度，并更新模型参数。对于感知机模型，我们可以将每个样本的梯度计算如下：\n",
    "\n",
    "$$\n",
    "\\nabla L(W,b) = (-y_i X_i^T, -y_i)\n",
    "$$"
   ],
   "id": "1ee629717c22d03f"
  },
  {
   "metadata": {},
   "cell_type": "markdown",
   "source": "随机梯度下降是误分类驱动的，通过设计一个智能的梯度计算函数，对正确分类的点返回 0 梯度，对误分类点正常计算，并在每一次发现误分类点即更新模型参数。这样不仅绕过了了不光滑的损失函数问题，还能确保在线性可分数据集上，模型参数能够在有限的迭代次数内收敛到一个正确的超平面。",
   "id": "1f41f75e3cece17a"
  },
  {
   "metadata": {},
   "cell_type": "markdown",
   "source": [
    "由此写出梯度下降的更新公式：\n",
    "\n",
    "$$\n",
    "W \\leftarrow W - \\eta (-y_i X_i^T)\n",
    "$$\n",
    "\n",
    "$$\n",
    "b \\leftarrow b - \\eta (-y_i)\n",
    "$$"
   ],
   "id": "eaf4bca28c375c16"
  },
  {
   "metadata": {},
   "cell_type": "markdown",
   "source": [
    "以上就是关于感知机模型的数学原理。\n",
    "\n",
    "-----"
   ],
   "id": "d6f130c19c3b68a6"
  },
  {
   "metadata": {},
   "cell_type": "markdown",
   "source": "## Section 2.2: 工程实现",
   "id": "fcb1ee641b27a21f"
  },
  {
   "metadata": {},
   "cell_type": "markdown",
   "source": "本节介绍如何使用 Python 实现感知机模型。我们将使用 NumPy 库来处理矩阵运算，并实现一个感知机类。",
   "id": "94289b6bdad51a5a"
  },
  {
   "metadata": {},
   "cell_type": "markdown",
   "source": "### 随机梯度下降类 `StochasticGradientDescent`",
   "id": "46544efd21a6e9ba"
  },
  {
   "metadata": {},
   "cell_type": "markdown",
   "source": "有了线性回归的铺垫，我们同样可以考虑将随机梯度下降的实现抽象成一个类，接收学习率和迭代次数构造，并实现 `optimize` 方法来进行参数更新。以下是 `StochasticGradientDescent.optimize()` 的简单算法描述：",
   "id": "fef7b69224e320b1"
  },
  {
   "metadata": {},
   "cell_type": "markdown",
   "source": [
    "以下是 `StochasticGradientDescent.optimize()` 的简单算法描述：\n",
    "1. 接收 $X$ 和 $y$，进行必要的参数验证\n",
    "2. 外循环：迭代 `n_epochs` 次，随机打乱数据集，避免模型学习到数据的顺序\n",
    "3. 内循环：遍历每个样本（已打乱顺序） $X_i, y_i$，计算梯度，更新模型参数\n",
    "4. 返回更新后的模型参数"
   ],
   "id": "7ede1000e89d32d4"
  },
  {
   "metadata": {},
   "cell_type": "markdown",
   "source": "梯度计算函数需要作为一个静态方法实现在感知机类 `Perceptron` 中，只需复现数学原理中单个样本的梯度计算公式即可，当样本被正确分类时，返回零梯度。",
   "id": "cad7ec6bbfb3f608"
  },
  {
   "metadata": {},
   "cell_type": "markdown",
   "source": [
    "> [!warning]\n",
    "> 注意数据类型和维度匹配问题。"
   ],
   "id": "f09b663f19bc2bb9"
  },
  {
   "metadata": {},
   "cell_type": "markdown",
   "source": "### 感知机类 `Perceptron`",
   "id": "90db81ea697e5ecc"
  },
  {
   "metadata": {},
   "cell_type": "markdown",
   "source": "有了随机梯度下降的实现，`Perceptron` 类的实现就变得非常简洁。首先，`Perceptron` 作为基估计器，需要继承 `BaseEstimator`；同时也是一个分类器，因此还需要继承 `ClassifierMixin`。在构造函数中，接收一个随机梯度下降的实例 `optimizer`，同时初始化权重 `W` 和偏置 `b` 为 `None`。",
   "id": "f75d346932650705"
  },
  {
   "metadata": {},
   "cell_type": "markdown",
   "source": "在 `fit` 方法中，首先进行参数验证，然后初始化权重和偏置为零向量和零标量。接着，调用 `optimizer.optimize()` 方法，传入数据集 $X$ 和标签 $y$，进行参数优化。最后，返回训练好的模型实例。",
   "id": "fbc1a6e252d9ff42"
  },
  {
   "metadata": {},
   "cell_type": "markdown",
   "source": "而 `predict` 更是简洁，只需按照决策函数的定义，计算 $XW + b$ 的符号并返回即可。",
   "id": "95f99e83ab4b9a12"
  },
  {
   "metadata": {},
   "cell_type": "markdown",
   "source": [
    "另外实现几个 `@property` 方法和 `@classmethod` 方法也是值得推荐的：\n",
    "\n",
    "- `coef_` 和 `intercept_` 属性，分别返回权重和偏置，符合 scikit-learn 的习惯\n",
    "- `with_default_optimizer` 类方法，方便用户快速创建一个带有默认随机梯度下降优化器的感知机实例"
   ],
   "id": "bcff2aa27844187e"
  },
  {
   "metadata": {},
   "cell_type": "markdown",
   "source": [
    "至此我们完成了感知机模型的实现。\n",
    "\n",
    "----"
   ],
   "id": "5647b19e7eed4b99"
  },
  {
   "metadata": {},
   "cell_type": "markdown",
   "source": "## Section 2.3: 测试",
   "id": "19728f6e4909247"
  },
  {
   "metadata": {},
   "cell_type": "markdown",
   "source": "导入必要的库和项目中的其他文件：",
   "id": "1d9e9dfaeb75a937"
  },
  {
   "metadata": {
    "ExecuteTime": {
     "end_time": "2025-08-20T07:50:52.400042Z",
     "start_time": "2025-08-20T07:50:52.291945Z"
    }
   },
   "cell_type": "code",
   "source": [
    "# basic imports\n",
    "import numpy as np\n",
    "\n",
    "# dataset preparation\n",
    "from src.mlfromscratch.utils import data_loader\n",
    "from src.mlfromscratch.utils import train_test_split\n",
    "\n",
    "# preprocessing\n",
    "from src.mlfromscratch.preprocessing import SimpleImputer, StandardScaler\n",
    "from src.mlfromscratch.compose import Pipeline\n",
    "\n",
    "# model\n",
    "from src.mlfromscratch.models import Perceptron\n",
    "\n",
    "# metrics\n",
    "from src.mlfromscratch.metrics.classification import accuracy_score, precision_score, recall_score, f1_score\n",
    "\n",
    "# visualization\n",
    "import matplotlib.pyplot as plt\n",
    "import seaborn as sns"
   ],
   "id": "dc1c0c70529aafe9",
   "outputs": [],
   "execution_count": 1
  },
  {
   "metadata": {},
   "cell_type": "markdown",
   "source": "`data_loader` 模块提供了多种数据集的加载功能，包括生成线性回归数据、分类数据等。查看可用的数据集：",
   "id": "7864af36f15883b"
  },
  {
   "metadata": {
    "ExecuteTime": {
     "end_time": "2025-08-20T07:50:52.428500Z",
     "start_time": "2025-08-20T07:50:52.416047Z"
    }
   },
   "cell_type": "code",
   "source": "data_loader.get_available_datasets()",
   "id": "ec0abd209fa090aa",
   "outputs": [
    {
     "data": {
      "text/plain": [
       "{'regression': <function src.mlfromscratch.utils.data_loader.load_regression_data(n_samples=100, n_features=1, noise=10, random_state=42)>,\n",
       " 'classification': <function src.mlfromscratch.utils.data_loader.load_classification_data(n_samples=100, n_features=2, n_classes=2, n_redundant=0, random_state=42)>,\n",
       " 'moons': <function src.mlfromscratch.utils.data_loader.load_moons_data(n_samples=100, noise=0.1, random_state=42)>,\n",
       " 'circles': <function src.mlfromscratch.utils.data_loader.load_circles_data(n_samples=100, noise=0.1, factor=0.8, random_state=42)>,\n",
       " 'blobs': <function src.mlfromscratch.utils.data_loader.load_blobs_data(n_samples=100, centers=3, n_features=2, random_state=42)>,\n",
       " 'diabetes': <function src.mlfromscratch.utils.data_loader.load_diabetes_data()>,\n",
       " 'iris': <function src.mlfromscratch.utils.data_loader.load_iris_data()>,\n",
       " 'wine': <function src.mlfromscratch.utils.data_loader.load_wine_data()>,\n",
       " 'breast_cancer': <function src.mlfromscratch.utils.data_loader.load_breast_cancer_data()>}"
      ]
     },
     "execution_count": 2,
     "metadata": {},
     "output_type": "execute_result"
    }
   ],
   "execution_count": 2
  },
  {
   "metadata": {},
   "cell_type": "markdown",
   "source": "使用 blobs 数据集和真实的乳腺癌数据集来检测分类的功能是否正常：",
   "id": "449fbd036f7f376f"
  },
  {
   "metadata": {
    "ExecuteTime": {
     "end_time": "2025-08-20T07:50:52.481405Z",
     "start_time": "2025-08-20T07:50:52.461221Z"
    }
   },
   "cell_type": "code",
   "source": [
    "X_1, y_1 = data_loader.load_blobs_data(n_samples=500, centers=2, n_features=2, random_state=42)\n",
    "X_2, y_2 = data_loader.load_breast_cancer_data()\n",
    "y_1 = np.where(y_1 == 0, -1, 1)\n",
    "y_2 = np.where(y_2 == 0, -1, 1)\n",
    "\n",
    "X_1.shape, y_1.shape, X_2.shape, y_2.shape"
   ],
   "id": "eab7ef83a44c102e",
   "outputs": [
    {
     "data": {
      "text/plain": [
       "((500, 2), (500,), (569, 30), (569,))"
      ]
     },
     "execution_count": 3,
     "metadata": {},
     "output_type": "execute_result"
    }
   ],
   "execution_count": 3
  },
  {
   "metadata": {},
   "cell_type": "markdown",
   "source": "分割数据集，展现数据集规模：",
   "id": "f890a2aacc7ab3a8"
  },
  {
   "metadata": {
    "ExecuteTime": {
     "end_time": "2025-08-20T07:50:52.503497Z",
     "start_time": "2025-08-20T07:50:52.496432Z"
    }
   },
   "cell_type": "code",
   "source": [
    "X_1_train, X_1_test, y_1_train, y_1_test = train_test_split(X_1, y_1, random_state=42)\n",
    "X_2_train, X_2_test, y_2_train, y_2_test = train_test_split(X_2, y_2, random_state=42)\n",
    "X_1_train.shape, X_1_test.shape, y_1_train.shape, y_1_test.shape"
   ],
   "id": "edb9d228cc2449d4",
   "outputs": [
    {
     "data": {
      "text/plain": [
       "((400, 2), (100, 2), (400,), (100,))"
      ]
     },
     "execution_count": 4,
     "metadata": {},
     "output_type": "execute_result"
    }
   ],
   "execution_count": 4
  },
  {
   "metadata": {},
   "cell_type": "markdown",
   "source": "定义预处理所用的转换器和管道：",
   "id": "47a266d6d980abb0"
  },
  {
   "metadata": {
    "ExecuteTime": {
     "end_time": "2025-08-20T07:50:52.533979Z",
     "start_time": "2025-08-20T07:50:52.530001Z"
    }
   },
   "cell_type": "code",
   "source": [
    "imputer= SimpleImputer(strategy='mean')\n",
    "scaler = StandardScaler()\n",
    "model = Perceptron.with_default_optimizer()\n",
    "\n",
    "pipeline_1 = Pipeline(\n",
    "    steps=[\n",
    "        ('impute', imputer),\n",
    "        ('scale', scaler),\n",
    "        ('model', model)\n",
    "    ]\n",
    ")\n",
    "pipeline_2 = Pipeline(\n",
    "    steps=[\n",
    "        ('impute', imputer),\n",
    "        ('scale', scaler),\n",
    "        ('model', model)\n",
    "    ]\n",
    ")\n",
    "\n"
   ],
   "id": "63ce7611bbd52ed9",
   "outputs": [],
   "execution_count": 5
  },
  {
   "metadata": {
    "ExecuteTime": {
     "end_time": "2025-08-20T07:50:52.550791Z",
     "start_time": "2025-08-20T07:50:52.544908Z"
    }
   },
   "cell_type": "code",
   "source": "pipeline_1.get_params()",
   "id": "b1645f8dc94689c",
   "outputs": [
    {
     "data": {
      "text/plain": [
       "{'steps': [('impute', SimpleImputer(strategy='mean')),\n",
       "  ('scale', StandardScaler()),\n",
       "  ('model',\n",
       "   Perceptron(optimizer=<src.mlfromscratch.optim.gradient_descent.StochasticGradientDescent object at 0x7d094d70dcd0>))],\n",
       " 'fitted_steps': []}"
      ]
     },
     "execution_count": 6,
     "metadata": {},
     "output_type": "execute_result"
    }
   ],
   "execution_count": 6
  },
  {
   "metadata": {},
   "cell_type": "markdown",
   "source": "将训练和预测放在一起运行：",
   "id": "1eeb68d83c856896"
  },
  {
   "metadata": {
    "ExecuteTime": {
     "end_time": "2025-08-20T07:51:01.242721Z",
     "start_time": "2025-08-20T07:50:52.566008Z"
    }
   },
   "cell_type": "code",
   "source": [
    "y_1_pred = pipeline_1.fit_predict(X=X_1_train, y=y_1_train, X_test=X_1_test)\n",
    "y_2_pred = pipeline_2.fit_predict(X=X_2_train, y=y_2_train, X_test=X_2_test)"
   ],
   "id": "ccef3779e7e81e41",
   "outputs": [],
   "execution_count": 7
  },
  {
   "metadata": {},
   "cell_type": "markdown",
   "source": "评估 Blobs 数据集上的各分类指标，展示性能：",
   "id": "a57679e12a0a8c92"
  },
  {
   "metadata": {
    "ExecuteTime": {
     "end_time": "2025-08-20T07:51:01.361998Z",
     "start_time": "2025-08-20T07:51:01.354398Z"
    }
   },
   "cell_type": "code",
   "source": [
    "# 评估数据集 1\n",
    "print(\"Dataset 1:\")\n",
    "print(f\"Accuracy: {accuracy_score(y_1_test, y_1_pred):.4f}\")\n",
    "print(f\"Precision: {precision_score(y_1_test, y_1_pred):.4f}\")\n",
    "print(f\"Recall: {recall_score(y_1_test, y_1_pred):.4f}\")\n",
    "print(f\"F1 Score: {f1_score(y_1_test, y_1_pred):.4f}\")"
   ],
   "id": "805838ca847e7ec7",
   "outputs": [
    {
     "name": "stdout",
     "output_type": "stream",
     "text": [
      "Dataset 1:\n",
      "Accuracy: 1.0000\n",
      "Precision: 1.0000\n",
      "Recall: 1.0000\n",
      "F1 Score: 1.0000\n"
     ]
    }
   ],
   "execution_count": 8
  },
  {
   "metadata": {},
   "cell_type": "markdown",
   "source": "定义决策边界的相关变量：",
   "id": "b383cfd8b7a4b490"
  },
  {
   "metadata": {
    "ExecuteTime": {
     "end_time": "2025-08-20T07:51:01.429408Z",
     "start_time": "2025-08-20T07:51:01.425516Z"
    }
   },
   "cell_type": "code",
   "source": [
    "coef = pipeline_1.named_steps['model'].coef_\n",
    "intercept = pipeline_1.named_steps['model'].intercept_\n",
    "x1_min, x1_max = X_1[:, 0].min() - 1, X_1[:, 0].max() + 1\n",
    "x_points = np.array([x1_min, x1_max])\n",
    "y_points = -(coef[0] * x_points + intercept) / coef[1]"
   ],
   "id": "20990795645f2b7e",
   "outputs": [],
   "execution_count": 9
  },
  {
   "metadata": {},
   "cell_type": "markdown",
   "source": "使用 matplotlib 和 seaborn 工具绘制数据集散点图和决策边界线：",
   "id": "ace3f2872e387422"
  },
  {
   "metadata": {
    "ExecuteTime": {
     "end_time": "2025-08-20T07:51:01.696538Z",
     "start_time": "2025-08-20T07:51:01.464338Z"
    }
   },
   "cell_type": "code",
   "source": [
    "# 数据集 1 可视化（使用 seaborn 绘制散点图和决策边界）\n",
    "plt.figure(figsize=(8, 6))\n",
    "sns.scatterplot(x=X_1_test[:, 0], y=X_1_test[:, 1], hue=y_1_test, style=y_1_pred, palette='coolwarm',\n",
    "                markers=['o', 's'], s=100, alpha=0.7)\n",
    "sns.lineplot(x=x_points, y=y_points, color='green', linewidth=2.5,\n",
    "             label='Decision Boundary', linestyle='--')\n",
    "plt.title('Dataset 1: Test Data and Predictions')\n",
    "plt.xlabel('Feature 1')\n",
    "plt.ylabel('Feature 2')\n",
    "plt.legend(title='True Label / Predicted Label')\n",
    "plt.grid()\n",
    "plt.show()"
   ],
   "id": "e23cd62734ee6468",
   "outputs": [
    {
     "data": {
      "text/plain": [
       "<Figure size 800x600 with 1 Axes>"
      ],
      "image/png": "[encoded data removed]"
     },
     "metadata": {},
     "output_type": "display_data"
    }
   ],
   "execution_count": 10
  },
  {
   "metadata": {},
   "cell_type": "markdown",
   "source": "评估模型在真实数据集上的性能：",
   "id": "6f5b4674ef0d601e"
  },
  {
   "metadata": {
    "ExecuteTime": {
     "end_time": "2025-08-20T07:51:01.719818Z",
     "start_time": "2025-08-20T07:51:01.714473Z"
    }
   },
   "cell_type": "code",
   "source": [
    "# 评估数据集 2\n",
    "print(\"Dataset 2:\")\n",
    "print(f\"Accuracy: {accuracy_score(y_2_test, y_2_pred):.4f}\")\n",
    "print(f\"Precision: {precision_score(y_2_test, y_2_pred):.4f}\")\n",
    "print(f\"Recall: {recall_score(y_2_test, y_2_pred):.4f}\")\n",
    "print(f\"F1 Score: {f1_score(y_2_test, y_2_pred):.4f}\")"
   ],
   "id": "f095ac464bf671f",
   "outputs": [
    {
     "name": "stdout",
     "output_type": "stream",
     "text": [
      "Dataset 2:\n",
      "Accuracy: 0.9292\n",
      "Precision: 1.0000\n",
      "Recall: 1.0000\n",
      "F1 Score: 1.0000\n"
     ]
    }
   ],
   "execution_count": 11
  },
  {
   "metadata": {},
   "cell_type": "markdown",
   "source": [
    "以上就是所有测试内容，可以看到模型正常运作。\n",
    "\n",
    "---"
   ],
   "id": "f163994a981df0f8"
  }
 ],
 "metadata": {
  "kernelspec": {
   "display_name": "Python 3",
   "language": "python",
   "name": "python3"
  },
  "language_info": {
   "codemirror_mode": {
    "name": "ipython",
    "version": 2
   },
   "file_extension": ".py",
   "mimetype": "text/x-python",
   "name": "python",
   "nbconvert_exporter": "python",
   "pygments_lexer": "ipython2",
   "version": "2.7.6"
  }
 },
 "nbformat": 4,
 "nbformat_minor": 5
}
